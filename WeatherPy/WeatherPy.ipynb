{
 "cells": [
  {
   "cell_type": "code",
   "execution_count": null,
   "id": "bb6a2cc3-e9b4-4d86-a17b-e89b2bea35c4",
   "metadata": {},
   "outputs": [],
   "source": [
    "# Dependencies and Setup\n",
    "import matplotlib.pyplot as plt\n",
    "import pandas as pd\n",
    "import numpy as np\n",
    "import requests\n",
    "import time\n",
    "from scipy.stats import linregress\n",
    "\n",
    "# Import API key\n",
    "from api_keys import weather_api_key\n",
    "\n",
    "# Incorporated citipy to determine city based on latitude and longitude\n",
    "from citipy import citipy\n",
    "\n",
    "# Output File (CSV)\n",
    "output_data_file = \"output_data/cities.csv\"\n",
    "\n",
    "# Range of latitudes and longitudes\n",
    "lat_range = (-90, 90)\n",
    "lng_range = (-180, 180)"
   ]
  },
  {
   "cell_type": "code",
   "execution_count": null,
   "id": "12230459-76e2-4a2a-ad2c-096cda36377e",
   "metadata": {},
   "outputs": [],
   "source": [
    "# List for holding lat_lngs and cities\n",
    "lat_lngs = []\n",
    "cities = []\n",
    "\n",
    "# Create a set of random lat and lng combinations\n",
    "lats = np.random.uniform(lat_range[0], lat_range[1], size=1500)\n",
    "lngs = np.random.uniform(lng_range[0], lng_range[1], size=1500)\n",
    "lat_lngs = zip(lats, lngs)\n",
    "\n",
    "# Identify nearest city for each lat, lng combination\n",
    "for lat_lng in lat_lngs:\n",
    "    city = citipy.nearest_city(lat_lng[0], lat_lng[1]).city_name\n",
    "    \n",
    "    # If the city is unique, then add it to a our cities list\n",
    "    if city not in cities:\n",
    "        cities.append(city)\n",
    "\n",
    "# Print the city count to confirm sufficient count\n",
    "len(cities)"
   ]
  },
  {
   "cell_type": "code",
   "execution_count": null,
   "id": "47606d2b-891f-4204-b153-d0b4a54b35da",
   "metadata": {},
   "outputs": [],
   "source": [
    "cities"
   ]
  },
  {
   "cell_type": "code",
   "execution_count": null,
   "id": "e3d68e61-a51b-413a-a862-f7b5f72505a2",
   "metadata": {},
   "outputs": [],
   "source": [
    "# Setup url configuration\n",
    "url = \"http://api.openweathermap.org/data/2.5/weather?\"\n",
    "units = \"Imperial\"\n",
    "params = {\n",
    "    \"appid\": weather_api_key,\n",
    "    \"units\": units,\n",
    "}"
   ]
  },
  {
   "cell_type": "code",
   "execution_count": null,
   "id": "bc0e052f-72a5-47bb-ad88-11c901766f3d",
   "metadata": {},
   "outputs": [],
   "source": [
    "# Create lists to hold data\n",
    "lon =  []\n",
    "lat = []\n",
    "hum = []\n",
    "maxtemp = []\n",
    "wind = []\n",
    "clouds = []\n",
    "date = []\n",
    "country = []\n",
    "city_name = []\n",
    "\n",
    "# Print opening statement\n",
    "print(\"Initiating Data Retrieval\")\n",
    "print(\"-----------------------------\")\n",
    "\n",
    "# Set up initial values for record and set counts\n",
    "record_count = 1\n",
    "set_count = 1\n",
    "\n",
    "# Loop through the list of cities and request data for each\n",
    "for city in cities:\n",
    "    try:\n",
    "        params[\"q\"]: city\n",
    "        response = requests.get(url, params=params).json()\n",
    "        print(f\"Processing Record {record_count} of Set {set_count}: {city.title()}\")\n",
    "        lon.append(response[\"coord\"][\"lon\"])\n",
    "        lat.append(response[\"coord\"][\"lat\"])\n",
    "        hum.append(response[\"main\"][\"humidity\"])\n",
    "        maxtemp.append(response[\"main\"][\"temp_max\"])\n",
    "        wind.append(response[\"wind\"][\"speed\"])\n",
    "        clouds.append(response[\"clouds\"][\"all\"])\n",
    "        date.append(response[\"dt\"])\n",
    "        country.append(response[\"sys\"][\"country\"])\n",
    "        city_name.append(response[\"name\"])\n",
    "    except:\n",
    "        print(\"City not found. Skipping...\")\n",
    "    \n",
    "    record_count += 1\n",
    "    if record_count == 51:\n",
    "        record_count = 1\n",
    "        set_count += 1\n",
    "    \n",
    "# Print closing\n",
    "print(\"-----------------------------\")\n",
    "print(\"Data Retrieval Complete!\")\n",
    "print(\"-----------------------------\")"
   ]
  },
  {
   "cell_type": "code",
   "execution_count": null,
   "id": "9070cf40-5fa8-4f7d-8992-50309550f4a7",
   "metadata": {},
   "outputs": [],
   "source": [
    "# setup the dictionary\n",
    "dictionary = {\n",
    "    \"City Name\": city_name,\n",
    "    \"Cloudiness\": clouds,\n",
    "    \"Country\": country,\n",
    "    \"Date\": date,\n",
    "    \"Humidity\": hum,\n",
    "    \"Latitude\": lat,\n",
    "    \"Longitude\": lon,\n",
    "    \"Max Temp\": maxtemp,\n",
    "    \"Wind Speed\": wind\n",
    "}"
   ]
  },
  {
   "cell_type": "code",
   "execution_count": null,
   "id": "99e39225-197c-4582-90ef-bf7435543d32",
   "metadata": {},
   "outputs": [],
   "source": [
    "# create dataframe\n",
    "wdf = pd.DataFrame(dictionary)\n",
    "\n",
    "# show head\n",
    "wdf.head()"
   ]
  },
  {
   "cell_type": "code",
   "execution_count": null,
   "id": "69da8158-47b3-4192-9b50-3eee469a9d4d",
   "metadata": {},
   "outputs": [],
   "source": [
    "# confirm column counts\n",
    "wdf.count()"
   ]
  },
  {
   "cell_type": "code",
   "execution_count": null,
   "id": "9fe7e00b-e39f-45eb-ae4a-659fd6218297",
   "metadata": {},
   "outputs": [],
   "source": [
    "# describe\n",
    "wdf.describe()"
   ]
  },
  {
   "cell_type": "code",
   "execution_count": null,
   "id": "19857678-e609-4ab0-8eaa-6162622ea9b2",
   "metadata": {},
   "outputs": [],
   "source": [
    "# Save to a csv file\n",
    "wdf.to_csv(output_data_file, index=False)"
   ]
  },
  {
   "cell_type": "code",
   "execution_count": null,
   "id": "62d72571-64e5-4677-9524-174031d00bd2",
   "metadata": {},
   "outputs": [],
   "source": [
    "# Build the scatter plot for Latitude vs Temperature\n",
    "plt.scatter(wdf[\"Latitude\"], wdf[\"Max Temp\"], marker=\"x\", s=40, alpha=0.75)\n",
    "\n",
    "# Set x and y limits\n",
    "plt.xlim((wdf[\"Latitude\"].min()-20), (wdf[\"Latitude\"].max()+20))\n",
    "plt.ylim((wdf[\"Max Temp\"].min()-20), (wdf[\"Max Temp\"].max()+20))\n",
    "\n",
    "# Add title and labels\n",
    "plt.title(f\"Today's Max Temperature ({datetime.now():%m/%d/%y})\")\n",
    "plt.xlabel(\"Latitude\")\n",
    "plt.ylabel(\"Max Temperature (F)\")\n",
    "\n",
    "# Add grid \n",
    "plt.grid()\n",
    "\n",
    "# Save plot as Image\n",
    "plt.savefig(\"output_data/Temp.png\")\n",
    "\n",
    "# Show plot\n",
    "plt.show()"
   ]
  },
  {
   "cell_type": "code",
   "execution_count": null,
   "id": "ffab1551-b1c6-487b-97b2-f2ec6fb1e9f7",
   "metadata": {},
   "outputs": [],
   "source": [
    "# Build the scatter plot for Latitude vs Humidity\n",
    "plt.scatter(wdf[\"Latitude\"], wdf[\"Humidity\"], marker=\"x\", s=40, alpha=0.75)\n",
    "\n",
    "# Set x and y limits\n",
    "plt.xlim((wdf[\"Latitude\"].min()-20), (wdf[\"Latitude\"].max()+20))\n",
    "plt.ylim((wdf[\"Humidity\"].min()-20), (wdf[\"Humidity\"].max()+20))\n",
    "\n",
    "# Add title and labels\n",
    "plt.title(f\"Today's Humidity ({datetime.now():%m/%d/%y})\")\n",
    "plt.xlabel(\"Latitude\")\n",
    "plt.ylabel(\"Humidity (%)\")\n",
    "\n",
    "# Add grid \n",
    "plt.grid()\n",
    "\n",
    "# Save plot as Image\n",
    "plt.savefig(\"output_data/Humidity.png\")\n",
    "\n",
    "# Show plot\n",
    "plt.show()"
   ]
  },
  {
   "cell_type": "code",
   "execution_count": null,
   "id": "462fb18f-1aa0-4fa9-a35d-7c2516f89a43",
   "metadata": {},
   "outputs": [],
   "source": [
    "\n",
    "# Build the scatter plot for Latitude vs Cloudiness\n",
    "plt.scatter(wdf[\"Latitude\"], wdf[\"Cloudiness\"], marker=\"x\", s=40, alpha=0.75)\n",
    "\n",
    "# Set x and y limits\n",
    "plt.xlim((wdf[\"Latitude\"].min()-20), (wdf[\"Latitude\"].max()+20))\n",
    "plt.ylim((wdf[\"Cloudiness\"].min()-30), (wdf[\"Cloudiness\"].max()+30))\n",
    "\n",
    "# Add title and labels\n",
    "plt.title(f\"Today's Cloudiness ({datetime.now():%m/%d/%y})\")\n",
    "plt.xlabel(\"Latitude\")\n",
    "plt.ylabel(\"Cloudiness (%)\")\n",
    "\n",
    "# Add grid \n",
    "plt.grid()\n",
    "\n",
    "# Save plot as Image\n",
    "plt.savefig(\"output_data/Cloudiness.png\")\n",
    "\n",
    "# Show plot\n",
    "plt.show()"
   ]
  },
  {
   "cell_type": "code",
   "execution_count": null,
   "id": "e7b3611c-5133-46ce-978c-235d082bdc48",
   "metadata": {},
   "outputs": [],
   "source": [
    "# Build the scatter plot for Latitude vs Wind Speed\n",
    "plt.scatter(wdf[\"Latitude\"], wdf[\"Wind Speed\"], marker=\"x\", s=40, alpha=0.75)\n",
    "\n",
    "# Set x and y limits\n",
    "plt.xlim((wdf[\"Latitude\"].min()-15), (wdf[\"Latitude\"].max()+15))\n",
    "plt.ylim((wdf[\"Wind Speed\"].min()-5), (wdf[\"Wind Speed\"].max()+5))\n",
    "\n",
    "# Add title and labels\n",
    "plt.title(f\"City Latitude vs Wind Speed ({datetime.now():%m/%d/%y})\")\n",
    "plt.xlabel(\"Latitude\")\n",
    "plt.ylabel(\"Wind Speed (mph)\")\n",
    "\n",
    "# Add grid \n",
    "plt.grid()\n",
    "\n",
    "# Save plot as Image\n",
    "plt.savefig(\"output_data/Wind Speed.png\")\n",
    "\n",
    "# Show plot\n",
    "plt.show()"
   ]
  },
  {
   "cell_type": "code",
   "execution_count": null,
   "id": "52e46a8a-6bd6-45ee-8546-5f43d4b0519e",
   "metadata": {},
   "outputs": [],
   "source": []
  }
 ],
 "metadata": {
  "kernelspec": {
   "display_name": "Python 3 (ipykernel)",
   "language": "python",
   "name": "python3"
  },
  "language_info": {
   "codemirror_mode": {
    "name": "ipython",
    "version": 3
   },
   "file_extension": ".py",
   "mimetype": "text/x-python",
   "name": "python",
   "nbconvert_exporter": "python",
   "pygments_lexer": "ipython3",
   "version": "3.9.7"
  }
 },
 "nbformat": 4,
 "nbformat_minor": 5
}
